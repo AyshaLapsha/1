{
  "nbformat": 4,
  "nbformat_minor": 0,
  "metadata": {
    "colab": {
      "provenance": []
    },
    "kernelspec": {
      "name": "python3",
      "display_name": "Python 3"
    },
    "language_info": {
      "name": "python"
    }
  },
  "cells": [
    {
      "cell_type": "markdown",
      "source": [
        "#Header1"
      ],
      "metadata": {
        "id": "YQoAvrPcVzhE"
      }
    },
    {
      "cell_type": "code",
      "source": [
        "[2] a=1"
      ],
      "metadata": {
        "id": "lgs5BxIgUhYY"
      },
      "execution_count": null,
      "outputs": []
    },
    {
      "cell_type": "code",
      "source": [
        "[3] b=2"
      ],
      "metadata": {
        "id": "BSL31f45UmWP"
      },
      "execution_count": null,
      "outputs": []
    },
    {
      "cell_type": "code",
      "source": [
        "[5] a+b"
      ],
      "metadata": {
        "id": "eeiGLSoeUpQ_"
      },
      "execution_count": null,
      "outputs": []
    },
    {
      "cell_type": "code",
      "source": [],
      "metadata": {
        "id": "OyKUOAxuV8Ut"
      },
      "execution_count": null,
      "outputs": []
    },
    {
      "cell_type": "markdown",
      "source": [
        "#Header2"
      ],
      "metadata": {
        "id": "Wa8Za6xPWKPs"
      }
    },
    {
      "cell_type": "markdown",
      "source": [
        "print(\"hello world\")**bold text**"
      ],
      "metadata": {
        "id": "sybcEoRSWYeu"
      }
    },
    {
      "cell_type": "markdown",
      "source": [
        "print(\"hello world\")*italicized text*"
      ],
      "metadata": {
        "id": "eUElUSqdWqr9"
      }
    },
    {
      "cell_type": "markdown",
      "source": [
        "print(\"hello world\")***bold text***"
      ],
      "metadata": {
        "id": "tJcM2RKhWuq8"
      }
    }
  ]
}